{ 
 "cells": [
  {
   "cell_type": "markdown",
   "id": "89309ac7",
   "metadata": {},
   "source": [
    "# Second part of project"
   ]
  },
  {
   "cell_type": "markdown",
   "id": "ed76e444",
   "metadata": {},
   "source": [
    "## In this file, i'm showing the second part of my project. It is for ( Text Classification )"
   ]
  },
  {
   "cell_type": "markdown",
   "id": "2bd6bbf0",
   "metadata": {},
   "source": [
    "### 1. Importing libraries"
   ]
  },
  {
   "cell_type": "code",
   "execution_count": 1,
   "id": "7679b5ff",
   "metadata": {},
   "outputs": [],
   "source": [
    "import pandas as pd\n",
    "import numpy as np\n",
    "import seaborn as sns\n",
    "import matplotlib.pyplot as plt\n",
    "from sklearn.feature_extraction.text import CountVectorizer\n",
    "from sklearn import feature_extraction, linear_model, model_selection, preprocessing\n",
    "from sklearn.metrics import accuracy_score\n",
    "from sklearn.model_selection import train_test_split\n",
    "from sklearn.feature_extraction.text import TfidfTransformer\n",
    "from sklearn.pipeline import Pipeline\n",
    "from sklearn.svm import LinearSVC\n",
    "from sklearn.linear_model import LogisticRegression\n",
    "from sklearn.naive_bayes import GaussianNB\n",
    "from sklearn.naive_bayes import BernoulliNB\n",
    "from sklearn.naive_bayes import MultinomialNB\n",
    "\n",
    "from sklearn.ensemble import GradientBoostingClassifier\n",
    "from sklearn.tree import DecisionTreeClassifier\n",
    "from sklearn.neighbors import KNeighborsClassifier\n",
    "from sklearn.linear_model import SGDClassifier\n",
    "from sklearn.ensemble import RandomForestClassifier\n",
    "from sklearn.preprocessing import LabelEncoder\n",
    "from sklearn.gaussian_process import GaussianProcessClassifier\n",
    "from keras.models import Model\n",
    "from keras.layers import LSTM, Activation, Dense, Dropout, Input, Embedding\n",
    "from keras.preprocessing.text import Tokenizer\n",
    "from keras.preprocessing import sequence\n",
    "from keras.callbacks import EarlyStopping\n",
    "\n",
    "from sklearn.metrics import accuracy_score, confusion_matrix,classification_report\n",
    "\n",
    "import nltk\n",
    "import nltk as nlp\n",
    "import string\n",
    "import re"
   ]
  },
  {
   "cell_type": "code",
   "execution_count": 2,
   "id": "a4b022e7",
   "metadata": {},
   "outputs": [],
   "source": [
    "bw_df = pd.read_csv('badwords.csv')"
   ]
  },
  {
   "cell_type": "code",
   "execution_count": 3,
   "id": "a97d366c",
   "metadata": {},
   "outputs": [
    {
     "data": {
      "text/html": [
       "<div>\n",
       "<style scoped>\n",
       "    .dataframe tbody tr th:only-of-type {\n",
       "        vertical-align: middle;\n",
       "    }\n",
       "\n",
       "    .dataframe tbody tr th {\n",
       "        vertical-align: top;\n",
       "    }\n",
       "\n",
       "    .dataframe thead th {\n",
       "        text-align: right;\n",
       "    }\n",
       "</style>\n",
       "<table border=\"1\" class=\"dataframe\">\n",
       "  <thead>\n",
       "    <tr style=\"text-align: right;\">\n",
       "      <th></th>\n",
       "      <th>word</th>\n",
       "    </tr>\n",
       "  </thead>\n",
       "  <tbody>\n",
       "    <tr>\n",
       "      <th>0</th>\n",
       "      <td>2g1c</td>\n",
       "    </tr>\n",
       "    <tr>\n",
       "      <th>1</th>\n",
       "      <td>2 girls 1 cup</td>\n",
       "    </tr>\n",
       "    <tr>\n",
       "      <th>2</th>\n",
       "      <td>acrotomophilia</td>\n",
       "    </tr>\n",
       "    <tr>\n",
       "      <th>3</th>\n",
       "      <td>alabama hot pocket</td>\n",
       "    </tr>\n",
       "    <tr>\n",
       "      <th>4</th>\n",
       "      <td>alaskan pipeline</td>\n",
       "    </tr>\n",
       "    <tr>\n",
       "      <th>...</th>\n",
       "      <td>...</td>\n",
       "    </tr>\n",
       "    <tr>\n",
       "      <th>406</th>\n",
       "      <td>SSG 08</td>\n",
       "    </tr>\n",
       "    <tr>\n",
       "      <th>407</th>\n",
       "      <td>Tec-9</td>\n",
       "    </tr>\n",
       "    <tr>\n",
       "      <th>408</th>\n",
       "      <td>UMP-45</td>\n",
       "    </tr>\n",
       "    <tr>\n",
       "      <th>409</th>\n",
       "      <td>USP-S</td>\n",
       "    </tr>\n",
       "    <tr>\n",
       "      <th>410</th>\n",
       "      <td>XM1014</td>\n",
       "    </tr>\n",
       "  </tbody>\n",
       "</table>\n",
       "<p>411 rows × 1 columns</p>\n",
       "</div>"
      ],
      "text/plain": [
       "                   word\n",
       "0                  2g1c\n",
       "1         2 girls 1 cup\n",
       "2        acrotomophilia\n",
       "3    alabama hot pocket\n",
       "4      alaskan pipeline\n",
       "..                  ...\n",
       "406              SSG 08\n",
       "407               Tec-9\n",
       "408              UMP-45\n",
       "409               USP-S\n",
       "410              XM1014\n",
       "\n",
       "[411 rows x 1 columns]"
      ]
     },
     "execution_count": 3,
     "metadata": {},
     "output_type": "execute_result"
    }
   ],
   "source": [
    "bdf = bw_df.rename(columns={'Name': 'word'})\n",
    "bdf"
   ]
  },
  {
   "cell_type": "markdown",
   "id": "e90142ce",
   "metadata": {},
   "source": [
    "### Read goodwords dataset"
   ]
  },
  {
   "cell_type": "code",
   "execution_count": 4,
   "id": "e10878db",
   "metadata": {},
   "outputs": [],
   "source": [
    "gdf = pd.read_csv('goodwords.csv', delimiter='\\t')"
   ]
  },
  {
   "cell_type": "code",
   "execution_count": 5,
   "id": "70fdf5e7",
   "metadata": {},
   "outputs": [
    {
     "data": {
      "text/html": [
       "<div>\n",
       "<style scoped>\n",
       "    .dataframe tbody tr th:only-of-type {\n",
       "        vertical-align: middle;\n",
       "    }\n",
       "\n",
       "    .dataframe tbody tr th {\n",
       "        vertical-align: top;\n",
       "    }\n",
       "\n",
       "    .dataframe thead th {\n",
       "        text-align: right;\n",
       "    }\n",
       "</style>\n",
       "<table border=\"1\" class=\"dataframe\">\n",
       "  <thead>\n",
       "    <tr style=\"text-align: right;\">\n",
       "      <th></th>\n",
       "      <th>word</th>\n",
       "    </tr>\n",
       "  </thead>\n",
       "  <tbody>\n",
       "    <tr>\n",
       "      <th>0</th>\n",
       "      <td>Bird Cage Bird Baths</td>\n",
       "    </tr>\n",
       "    <tr>\n",
       "      <th>1</th>\n",
       "      <td>Bird Cage Food &amp; Water Dishes</td>\n",
       "    </tr>\n",
       "    <tr>\n",
       "      <th>2</th>\n",
       "      <td>Bicycle Bibs</td>\n",
       "    </tr>\n",
       "    <tr>\n",
       "      <th>3</th>\n",
       "      <td>Bicycle Jerseys</td>\n",
       "    </tr>\n",
       "    <tr>\n",
       "      <th>4</th>\n",
       "      <td>Bicycle Shorts &amp; Briefs</td>\n",
       "    </tr>\n",
       "    <tr>\n",
       "      <th>...</th>\n",
       "      <td>...</td>\n",
       "    </tr>\n",
       "    <tr>\n",
       "      <th>1738</th>\n",
       "      <td>Watercraft Fuel Tanks &amp; Parts</td>\n",
       "    </tr>\n",
       "    <tr>\n",
       "      <th>1739</th>\n",
       "      <td>Watercraft Steering Cables</td>\n",
       "    </tr>\n",
       "    <tr>\n",
       "      <th>1740</th>\n",
       "      <td>Watercraft Steering Wheels</td>\n",
       "    </tr>\n",
       "    <tr>\n",
       "      <th>1741</th>\n",
       "      <td>ATVs &amp; UTVs</td>\n",
       "    </tr>\n",
       "    <tr>\n",
       "      <th>1742</th>\n",
       "      <td>Go Karts &amp; Dune Buggies</td>\n",
       "    </tr>\n",
       "  </tbody>\n",
       "</table>\n",
       "<p>1743 rows × 1 columns</p>\n",
       "</div>"
      ],
      "text/plain": [
       "                               word\n",
       "0              Bird Cage Bird Baths\n",
       "1     Bird Cage Food & Water Dishes\n",
       "2                      Bicycle Bibs\n",
       "3                   Bicycle Jerseys\n",
       "4           Bicycle Shorts & Briefs\n",
       "...                             ...\n",
       "1738  Watercraft Fuel Tanks & Parts\n",
       "1739     Watercraft Steering Cables\n",
       "1740     Watercraft Steering Wheels\n",
       "1741                    ATVs & UTVs\n",
       "1742        Go Karts & Dune Buggies\n",
       "\n",
       "[1743 rows x 1 columns]"
      ]
     },
     "execution_count": 5,
     "metadata": {},
     "output_type": "execute_result"
    }
   ],
   "source": [
    "gdf"
   ]
  },
  {
   "cell_type": "code",
   "execution_count": 6,
   "id": "ad2d8635",
   "metadata": {},
   "outputs": [
    {
     "data": {
      "text/html": [
       "<div>\n",
       "<style scoped>\n",
       "    .dataframe tbody tr th:only-of-type {\n",
       "        vertical-align: middle;\n",
       "    }\n",
       "\n",
       "    .dataframe tbody tr th {\n",
       "        vertical-align: top;\n",
       "    }\n",
       "\n",
       "    .dataframe thead th {\n",
       "        text-align: right;\n",
       "    }\n",
       "</style>\n",
       "<table border=\"1\" class=\"dataframe\">\n",
       "  <thead>\n",
       "    <tr style=\"text-align: right;\">\n",
       "      <th></th>\n",
       "      <th>word</th>\n",
       "      <th>target</th>\n",
       "    </tr>\n",
       "  </thead>\n",
       "  <tbody>\n",
       "    <tr>\n",
       "      <th>0</th>\n",
       "      <td>2g1c</td>\n",
       "      <td>bad</td>\n",
       "    </tr>\n",
       "    <tr>\n",
       "      <th>1</th>\n",
       "      <td>2 girls 1 cup</td>\n",
       "      <td>bad</td>\n",
       "    </tr>\n",
       "    <tr>\n",
       "      <th>2</th>\n",
       "      <td>acrotomophilia</td>\n",
       "      <td>bad</td>\n",
       "    </tr>\n",
       "    <tr>\n",
       "      <th>3</th>\n",
       "      <td>alabama hot pocket</td>\n",
       "      <td>bad</td>\n",
       "    </tr>\n",
       "    <tr>\n",
       "      <th>4</th>\n",
       "      <td>alaskan pipeline</td>\n",
       "      <td>bad</td>\n",
       "    </tr>\n",
       "    <tr>\n",
       "      <th>...</th>\n",
       "      <td>...</td>\n",
       "      <td>...</td>\n",
       "    </tr>\n",
       "    <tr>\n",
       "      <th>2149</th>\n",
       "      <td>Watercraft Fuel Tanks &amp; Parts</td>\n",
       "      <td>good</td>\n",
       "    </tr>\n",
       "    <tr>\n",
       "      <th>2150</th>\n",
       "      <td>Watercraft Steering Cables</td>\n",
       "      <td>good</td>\n",
       "    </tr>\n",
       "    <tr>\n",
       "      <th>2151</th>\n",
       "      <td>Watercraft Steering Wheels</td>\n",
       "      <td>good</td>\n",
       "    </tr>\n",
       "    <tr>\n",
       "      <th>2152</th>\n",
       "      <td>ATVs &amp; UTVs</td>\n",
       "      <td>good</td>\n",
       "    </tr>\n",
       "    <tr>\n",
       "      <th>2153</th>\n",
       "      <td>Go Karts &amp; Dune Buggies</td>\n",
       "      <td>good</td>\n",
       "    </tr>\n",
       "  </tbody>\n",
       "</table>\n",
       "<p>2154 rows × 2 columns</p>\n",
       "</div>"
      ],
      "text/plain": [
       "                               word target\n",
       "0                              2g1c    bad\n",
       "1                     2 girls 1 cup    bad\n",
       "2                    acrotomophilia    bad\n",
       "3                alabama hot pocket    bad\n",
       "4                  alaskan pipeline    bad\n",
       "...                             ...    ...\n",
       "2149  Watercraft Fuel Tanks & Parts   good\n",
       "2150     Watercraft Steering Cables   good\n",
       "2151     Watercraft Steering Wheels   good\n",
       "2152                    ATVs & UTVs   good\n",
       "2153        Go Karts & Dune Buggies   good\n",
       "\n",
       "[2154 rows x 2 columns]"
      ]
     },
     "execution_count": 6,
     "metadata": {},
     "output_type": "execute_result"
    }
   ],
   "source": [
    "bdf['target'] = 'bad'\n",
    "gdf['target'] = 'good'\n",
    "words = pd.concat([bdf, gdf]).reset_index(drop = True)\n",
    "words"
   ]
  },
  {
   "cell_type": "code",
   "execution_count": 7,
   "id": "93688ba1",
   "metadata": {},
   "outputs": [
    {
     "data": {
      "text/plain": [
       "word      0\n",
       "target    0\n",
       "dtype: int64"
      ]
     },
     "execution_count": 7,
     "metadata": {},
     "output_type": "execute_result"
    }
   ],
   "source": [
    "words.isna().sum()"
   ]
  },
  {
   "cell_type": "markdown",
   "id": "21115fdf",
   "metadata": {},
   "source": [
    "## Let's start"
   ]
  },
  {
   "cell_type": "code",
   "execution_count": 8,
   "id": "d873af6b",
   "metadata": {},
   "outputs": [],
   "source": [
    "### Define heat map function for matrix confusion "
   ]
  },
  {
   "cell_type": "code",
   "execution_count": 9,
   "id": "e97ba5f4",
   "metadata": {},
   "outputs": [],
   "source": [
    "def conf_matrix(actual, predicted):\n",
    "    cm = confusion_matrix(actual, predicted)\n",
    "    sns.heatmap(cm, xticklabels=['predicted_bad', 'predicted_good'], \n",
    "                yticklabels=['actual_bad', 'actual_good'], annot=True,\n",
    "                fmt='d', annot_kws={'fontsize':20}, cmap=\"YlGnBu\");\n",
    "\n",
    "    true_neg, false_pos = cm[0]\n",
    "    false_neg, true_pos = cm[1]\n",
    "\n",
    "    accuracy = round((true_pos + true_neg) / (true_pos + true_neg + false_pos + false_neg),3)\n",
    "    precision = round((true_pos) / (true_pos + false_pos),3)\n",
    "    recall = round((true_pos) / (true_pos + false_neg),3)\n",
    "    f1 = round(2 * (precision * recall) / (precision + recall),3)\n",
    "\n",
    "    cm_results = [accuracy, precision, recall, f1]\n",
    "    return cm_results"
   ]
  },
  {
   "cell_type": "code",
   "execution_count": 11,
   "id": "da0e2ae7",
   "metadata": {},
   "outputs": [],
   "source": [
    "x_train,x_test,y_train,y_test = train_test_split(words['word'], words.target, test_size=0.2, random_state=2020)"
   ]
  },
  {
   "cell_type": "markdown",
   "id": "8c5b2f5f",
   "metadata": {},
   "source": [
    "### 1. Decision Tree"
   ]
  },
  {
   "cell_type": "code",
   "execution_count": 12,
   "id": "d659c841",
   "metadata": {},
   "outputs": [
    {
     "name": "stdout",
     "output_type": "stream",
     "text": [
      "accuracy: 81.67%\n"
     ]
    }
   ],
   "source": [
    "pipe = Pipeline([('vect', CountVectorizer()),\n",
    "                 ('tfidf', TfidfTransformer()),\n",
    "                 ('model', DecisionTreeClassifier(criterion= 'entropy',\n",
    "                                           max_depth = 10, \n",
    "                                           splitter='best', \n",
    "                                           random_state=2020))])\n",
    "\n",
    "DT_model = pipe.fit(x_train, y_train)\n",
    "DT_prediction = DT_model.predict(x_test)\n",
    "print(\"accuracy: {}%\".format(round(accuracy_score(y_test, DT_prediction)*100,2)))"
   ]
  },
  {
   "cell_type": "code",
   "execution_count": 13,
   "id": "7abc49d1",
   "metadata": {},
   "outputs": [
    {
     "data": {
      "text/plain": [
       "[0.817, 0.816, 1.0, 0.899]"
      ]
     },
     "execution_count": 13,
     "metadata": {},
     "output_type": "execute_result"
    },
    {
     "data": {
      "image/png": "[encoded data removed]",
      "text/plain": [
       "<Figure size 432x288 with 2 Axes>"
      ]
     },
     "metadata": {
      "needs_background": "light"
     },
     "output_type": "display_data"
    }
   ],
   "source": [
    "conf_matrix(y_test, DT_prediction)"
   ]
  },
  {
   "cell_type": "code",
   "execution_count": 14,
   "id": "33c527fb",
   "metadata": {},
   "outputs": [
    {
     "name": "stdout",
     "output_type": "stream",
     "text": [
      "              precision    recall  f1-score   support\n",
      "\n",
      "         bad       1.00      0.01      0.02        80\n",
      "        good       0.82      1.00      0.90       351\n",
      "\n",
      "    accuracy                           0.82       431\n",
      "   macro avg       0.91      0.51      0.46       431\n",
      "weighted avg       0.85      0.82      0.74       431\n",
      "\n"
     ]
    }
   ],
   "source": [
    "print(classification_report(y_test, DT_prediction))"
   ]
  },
  {
   "cell_type": "markdown",
   "id": "214df387",
   "metadata": {},
   "source": [
    "### 2. Logistic Regression Classifier"
   ]
  },
  {
   "cell_type": "code",
   "execution_count": 15,
   "id": "c187125e",
   "metadata": {},
   "outputs": [
    {
     "name": "stdout",
     "output_type": "stream",
     "text": [
      "accuracy: 81.9%\n"
     ]
    }
   ],
   "source": [
    "pipe = Pipeline([('vect', CountVectorizer()),\n",
    "                 ('tfidf', TfidfTransformer()),\n",
    "                 ('model', LogisticRegression())])\n",
    "\n",
    "LR_model = pipe.fit(x_train, y_train)\n",
    "LR_prediction = LR_model.predict(x_test)\n",
    "print(\"accuracy: {}%\".format(round(accuracy_score(y_test, LR_prediction)*100,2)))"
   ]
  },
  {
   "cell_type": "code",
   "execution_count": 16,
   "id": "ac1f2f1c",
   "metadata": {},
   "outputs": [
    {
     "data": {
      "text/plain": [
       "[0.819, 0.818, 1.0, 0.9]"
      ]
     },
     "execution_count": 16,
     "metadata": {},
     "output_type": "execute_result"
    },
    {
     "data": {
      "image/png": "[encoded data removed]",
      "text/plain": [
       "<Figure size 432x288 with 2 Axes>"
      ]
     },
     "metadata": {
      "needs_background": "light"
     },
     "output_type": "display_data"
    }
   ],
   "source": [
    "#print(confusion_matrix(y_test, prediction))\n",
    "conf_matrix(y_test, LR_prediction)"
   ]
  },
  {
   "cell_type": "code",
   "execution_count": 17,
   "id": "d4722d7a",
   "metadata": {},
   "outputs": [
    {
     "name": "stdout",
     "output_type": "stream",
     "text": [
      "              precision    recall  f1-score   support\n",
      "\n",
      "         bad       1.00      0.03      0.05        80\n",
      "        good       0.82      1.00      0.90       351\n",
      "\n",
      "    accuracy                           0.82       431\n",
      "   macro avg       0.91      0.51      0.47       431\n",
      "weighted avg       0.85      0.82      0.74       431\n",
      "\n"
     ]
    }
   ],
   "source": [
    "print(classification_report(y_test, LR_prediction))"
   ]
  },
  {
   "cell_type": "markdown",
   "id": "777f2f2e",
   "metadata": {},
   "source": [
    "### 3. Support Vector Classifier"
   ]
  },
  {
   "cell_type": "code",
   "execution_count": 18,
   "id": "1f190b67",
   "metadata": {},
   "outputs": [
    {
     "name": "stdout",
     "output_type": "stream",
     "text": [
      "accuracy: 84.45%\n"
     ]
    }
   ],
   "source": [
    "x_train,x_test,y_train,y_test = train_test_split(words['word'], words.target, test_size=0.2, random_state=2020)\n",
    "\n",
    "pipe = Pipeline([('vect', CountVectorizer()),\n",
    "                 ('tfidf', TfidfTransformer()),\n",
    "                 ('model', LinearSVC())])\n",
    "\n",
    "SVC_model = pipe.fit(x_train, y_train)\n",
    "SVC_prediction = SVC_model.predict(x_test)\n",
    "print(\"accuracy: {}%\".format(round(accuracy_score(y_test, SVC_prediction)*100,2)))"
   ]
  },
  {
   "cell_type": "code",
   "execution_count": 19,
   "id": "d325e6ab",
   "metadata": {},
   "outputs": [
    {
     "data": {
      "text/plain": [
       "[0.845, 0.843, 0.994, 0.912]"
      ]
     },
     "execution_count": 19,
     "metadata": {},
     "output_type": "execute_result"
    },
    {
     "data": {
      "image/png": "[encoded data removed]",
      "text/plain": [
       "<Figure size 432x288 with 2 Axes>"
      ]
     },
     "metadata": {
      "needs_background": "light"
     },
     "output_type": "display_data"
    }
   ],
   "source": [
    "conf_matrix(y_test, SVC_prediction)"
   ]
  },
  {
   "cell_type": "code",
   "execution_count": 20,
   "id": "c487b3e9",
   "metadata": {},
   "outputs": [
    {
     "name": "stdout",
     "output_type": "stream",
     "text": [
      "              precision    recall  f1-score   support\n",
      "\n",
      "         bad       0.88      0.19      0.31        80\n",
      "        good       0.84      0.99      0.91       351\n",
      "\n",
      "    accuracy                           0.84       431\n",
      "   macro avg       0.86      0.59      0.61       431\n",
      "weighted avg       0.85      0.84      0.80       431\n",
      "\n"
     ]
    }
   ],
   "source": [
    "print(classification_report(y_test, SVC_prediction))"
   ]
  },
  {
   "cell_type": "markdown",
   "id": "05fd3420",
   "metadata": {},
   "source": [
    "### 4. Random Forest Classifier"
   ]
  },
  {
   "cell_type": "code",
   "execution_count": 21,
   "id": "d372805e",
   "metadata": {},
   "outputs": [
    {
     "name": "stdout",
     "output_type": "stream",
     "text": [
      "accuracy: 86.77%\n"
     ]
    }
   ],
   "source": [
    "pipe = Pipeline([('vect', CountVectorizer()),\n",
    "                 ('tfidf', TfidfTransformer()),\n",
    "                 ('model', RandomForestClassifier())])\n",
    "\n",
    "RF_model = pipe.fit(x_train, y_train)\n",
    "RF_prediction = RF_model.predict(x_test)\n",
    "print(\"accuracy: {}%\".format(round(accuracy_score(y_test, RF_prediction)*100,2)))"
   ]
  },
  {
   "cell_type": "code",
   "execution_count": 22,
   "id": "59279c8b",
   "metadata": {},
   "outputs": [
    {
     "data": {
      "text/plain": [
       "[0.868, 0.99, 0.846, 0.912]"
      ]
     },
     "execution_count": 22,
     "metadata": {},
     "output_type": "execute_result"
    },
    {
     "data": {
      "image/png": "[encoded data removed]",
      "text/plain": [
       "<Figure size 432x288 with 2 Axes>"
      ]
     },
     "metadata": {
      "needs_background": "light"
     },
     "output_type": "display_data"
    }
   ],
   "source": [
    "conf_matrix(y_test, RF_prediction)"
   ]
  },
  {
   "cell_type": "code",
   "execution_count": 23,
   "id": "1a1f2811",
   "metadata": {},
   "outputs": [
    {
     "name": "stdout",
     "output_type": "stream",
     "text": [
      "              precision    recall  f1-score   support\n",
      "\n",
      "         bad       0.59      0.96      0.73        80\n",
      "        good       0.99      0.85      0.91       351\n",
      "\n",
      "    accuracy                           0.87       431\n",
      "   macro avg       0.79      0.90      0.82       431\n",
      "weighted avg       0.92      0.87      0.88       431\n",
      "\n"
     ]
    }
   ],
   "source": [
    "print(classification_report(y_test, RF_prediction))"
   ]
  },
  {
   "cell_type": "markdown",
   "id": "9a621033",
   "metadata": {},
   "source": [
    "### 5. Multinomial Naive Bayes Classifier"
   ]
  },
  {
   "cell_type": "code",
   "execution_count": 24,
   "id": "7b5395b5",
   "metadata": {},
   "outputs": [
    {
     "name": "stdout",
     "output_type": "stream",
     "text": [
      "accuracy: 82.37%\n"
     ]
    }
   ],
   "source": [
    "pipe = Pipeline([('vect', CountVectorizer()),\n",
    "                 ('tfidf', TfidfTransformer()),\n",
    "                 ('model', MultinomialNB())])\n",
    "\n",
    "NB_model = pipe.fit(x_train, y_train)\n",
    "NB_prediction = NB_model.predict(x_test)\n",
    "print(\"accuracy: {}%\".format(round(accuracy_score(y_test, NB_prediction)*100,2)))"
   ]
  },
  {
   "cell_type": "code",
   "execution_count": 25,
   "id": "6b127c3b",
   "metadata": {},
   "outputs": [
    {
     "data": {
      "text/plain": [
       "[0.824, 0.822, 1.0, 0.902]"
      ]
     },
     "execution_count": 25,
     "metadata": {},
     "output_type": "execute_result"
    },
    {
     "data": {
      "image/png": "[encoded data removed]",
      "text/plain": [
       "<Figure size 432x288 with 2 Axes>"
      ]
     },
     "metadata": {
      "needs_background": "light"
     },
     "output_type": "display_data"
    }
   ],
   "source": [
    "conf_matrix(y_test, NB_prediction)"
   ]
  },
  {
   "cell_type": "code",
   "execution_count": 26,
   "id": "6920afef",
   "metadata": {},
   "outputs": [
    {
     "name": "stdout",
     "output_type": "stream",
     "text": [
      "              precision    recall  f1-score   support\n",
      "\n",
      "         bad       1.00      0.05      0.10        80\n",
      "        good       0.82      1.00      0.90       351\n",
      "\n",
      "    accuracy                           0.82       431\n",
      "   macro avg       0.91      0.53      0.50       431\n",
      "weighted avg       0.86      0.82      0.75       431\n",
      "\n"
     ]
    }
   ],
   "source": [
    "print(classification_report(y_test, NB_prediction))"
   ]
  },
  {
   "cell_type": "markdown",
   "id": "1dc087c0",
   "metadata": {},
   "source": [
    "### 6. KNN Classifier"
   ]
  },
  {
   "cell_type": "code",
   "execution_count": 27,
   "id": "96e54863",
   "metadata": {},
   "outputs": [
    {
     "name": "stdout",
     "output_type": "stream",
     "text": [
      "accuracy: 87.24%\n"
     ]
    }
   ],
   "source": [
    "pipe = Pipeline([('vect', CountVectorizer()),\n",
    "                 ('tfidf', TfidfTransformer()),\n",
    "                 ('model', KNeighborsClassifier(n_neighbors = 10,weights = 'distance',algorithm = 'brute'))])\n",
    "\n",
    "KNN_model = pipe.fit(x_train, y_train)\n",
    "KNN_prediction = KNN_model.predict(x_test)\n",
    "print(\"accuracy: {}%\".format(round(accuracy_score(y_test, KNN_prediction)*100,2)))"
   ]
  },
  {
   "cell_type": "code",
   "execution_count": 28,
   "id": "d1bee693",
   "metadata": {},
   "outputs": [
    {
     "data": {
      "text/plain": [
       "[0.872, 0.96, 0.88, 0.918]"
      ]
     },
     "execution_count": 28,
     "metadata": {},
     "output_type": "execute_result"
    },
    {
     "data": {
      "image/png": "[encoded data removed]",
      "text/plain": [
       "<Figure size 432x288 with 2 Axes>"
      ]
     },
     "metadata": {
      "needs_background": "light"
     },
     "output_type": "display_data"
    }
   ],
   "source": [
    "conf_matrix(y_test, KNN_prediction)"
   ]
  },
  {
   "cell_type": "code",
   "execution_count": 29,
   "id": "cbb760b7",
   "metadata": {},
   "outputs": [
    {
     "name": "stdout",
     "output_type": "stream",
     "text": [
      "              precision    recall  f1-score   support\n",
      "\n",
      "         bad       0.61      0.84      0.71        80\n",
      "        good       0.96      0.88      0.92       351\n",
      "\n",
      "    accuracy                           0.87       431\n",
      "   macro avg       0.79      0.86      0.81       431\n",
      "weighted avg       0.90      0.87      0.88       431\n",
      "\n"
     ]
    }
   ],
   "source": [
    "print(classification_report(y_test, KNN_prediction))"
   ]
  },
  {
   "cell_type": "markdown",
   "id": "ae4068ad",
   "metadata": {},
   "source": [
    "### As the results of accuracy, i think KNN model hav a best score"
   ]
  },
  {
   "cell_type": "code",
   "execution_count": 30,
   "id": "424834ae",
   "metadata": {},
   "outputs": [
    {
     "data": {
      "text/plain": [
       "array(['bad'], dtype=object)"
      ]
     },
     "execution_count": 30,
     "metadata": {},
     "output_type": "execute_result"
    }
   ],
   "source": [
    "KNN_model.predict(['shotgun as new for sell']) ## an example of prohibited (bad) product title"
   ]
  },
  {
   "cell_type": "code",
   "execution_count": 31,
   "id": "95f90213",
   "metadata": {},
   "outputs": [
    {
     "data": {
      "text/plain": [
       "array(['good'], dtype=object)"
      ]
     },
     "execution_count": 31,
     "metadata": {},
     "output_type": "execute_result"
    }
   ],
   "source": [
    "KNN_model.predict(['sell shotgun for playstation game']) ## an example of non-prohibited (Good) product title"
   ]
  },
  {
   "cell_type": "markdown",
   "id": "200c7e2e",
   "metadata": {},
   "source": [
    "### Ok, after this expermint i'm ready to produce the model by using pickle package for deployment step"
   ]
  },
  {
   "cell_type": "code",
   "execution_count": null,
   "id": "26ba9f64",
   "metadata": {},
   "outputs": [],
   "source": [
    "pickle.dump(KNN_model, open('text-model.pkl','wb'))"
   ]
  }
 ],
 "metadata": {
  "kernelspec": {
   "display_name": "Python 3",
   "language": "python",
   "name": "python3"
  },
  "language_info": {
   "codemirror_mode": {
    "name": "ipython",
    "version": 3
   },
   "file_extension": ".py",
   "mimetype": "text/x-python",
   "name": "python",
   "nbconvert_exporter": "python",
   "pygments_lexer": "ipython3",
   "version": "3.8.8"
  }
 },
 "nbformat": 4,
 "nbformat_minor": 5
}
