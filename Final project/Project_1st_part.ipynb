{ 
 "cells": [
  {
   "cell_type": "markdown",
   "id": "9d3d8e8b",
   "metadata": {},
   "source": [
    "# Minimum Viable Product (MVP)"
   ]
  },
  {
   "cell_type": "markdown",
   "id": "f0a1ed10",
   "metadata": {},
   "source": [
    "### In this file, i'm showing all steps i have been applied for my project as MVP"
   ]
  },
  {
   "cell_type": "markdown",
   "id": "ab90a6e2",
   "metadata": {},
   "source": [
    "### 1. Preparing the environment"
   ]
  },
  {
   "cell_type": "markdown",
   "id": "4759afef",
   "metadata": {},
   "source": [
    "        \n",
    ". Install Python on my machine.<br>. Install Anaconda.<br>. Install Jupyter Notebook.<br>. Install libraries (Numpy, Tensorflow, Pickle... etc..)."
   ]
  },
  {
   "cell_type": "markdown",
   "id": "516e1290",
   "metadata": {},
   "source": [
    "### 2. Import libraries"
   ]
  },
  {
   "cell_type": "code",
   "execution_count": 2,
   "id": "06353115",
   "metadata": {},
   "outputs": [],
   "source": [
    "import numpy as np\n",
    "import tensorflow as tf\n",
    "import matplotlib.pyplot as plt\n",
    "from tensorflow.keras import datasets, layers, models\n",
    "from sklearn.metrics import confusion_matrix , classification_report"
   ]
  },
  {
   "cell_type": "markdown",
   "id": "042eb081",
   "metadata": {},
   "source": [
    "### 3. Download/Load dataset"
   ]
  },
  {
   "cell_type": "markdown",
   "id": "8486da56",
   "metadata": {},
   "source": [
    "#### <font color=green>CIFAR 10 is an images dataset, consists of <font color=blue>*60,000*</font> 32x32 color images in 10 classes, with 6000 images per class.</font>  __[Go to CIFAR site](https://www.cs.toronto.edu/~kriz/cifar.html)__"
   ]
  },
  {
   "cell_type": "code",
   "execution_count": 2,
   "id": "68d08590",
   "metadata": {},
   "outputs": [],
   "source": [
    "# Download dataset and get all train and test data\n",
    "(X_train, y_train), (X_test, y_test) = datasets.cifar10.load_data()"
   ]
  },
  {
   "cell_type": "code",
   "execution_count": 3,
   "id": "4f486174",
   "metadata": {},
   "outputs": [
    {
     "name": "stdout",
     "output_type": "stream",
     "text": [
      "X train shape: (50000, 32, 32, 3)\n",
      "y train shape: (50000, 1)\n",
      "------------------------------------\n",
      "X test shape: (10000, 32, 32, 3)\n",
      "y test shape: (10000, 1)\n"
     ]
    }
   ],
   "source": [
    "# Show data shapes\n",
    "\n",
    "print(f\"X train shape: {X_train.shape}\")\n",
    "print(f\"y train shape: {y_train.shape}\")\n",
    "print(\"------------------------------------\")\n",
    "print(f\"X test shape: {X_test.shape}\")\n",
    "print(f\"y test shape: {y_test.shape}\")"
   ]
  },
  {
   "cell_type": "markdown",
   "id": "d20c4fb7",
   "metadata": {},
   "source": [
    "<font color=black>__Output notes:__<br>1.There are 50,000 images for training. <br>2.There are 10,000 images for testing. <br>3.The shape of (y_train) and (y_test) are 2D array, we need to convert them to 1D array for our classification. </font>"
   ]
  },
  {
   "cell_type": "code",
   "execution_count": 4,
   "id": "fc2ad429",
   "metadata": {},
   "outputs": [],
   "source": [
    "# Reshape y_train, y_test\n",
    "y_train = y_train.reshape(-1,)\n",
    "y_test = y_test.reshape(-1,)"
   ]
  },
  {
   "cell_type": "code",
   "execution_count": 5,
   "id": "e4281958",
   "metadata": {},
   "outputs": [],
   "source": [
    "# Define classes as provided in CIFAR 10\n",
    "classes = [\"airplane\",\"automobile\",\"bird\",\"cat\",\"deer\",\"dog\",\"frog\",\"horse\",\"ship\",\"truck\"]"
   ]
  },
  {
   "cell_type": "markdown",
   "id": "386f9925",
   "metadata": {},
   "source": [
    "### 4. Visualize/Display image"
   ]
  },
  {
   "cell_type": "code",
   "execution_count": 6,
   "id": "50362285",
   "metadata": {},
   "outputs": [],
   "source": [
    "# Define a function to display image\n",
    "def plot_image(X, y, index):\n",
    "    plt.figure(figsize = (15,2))\n",
    "    plt.imshow(X[index])"
   ]
  },
  {
   "cell_type": "code",
   "execution_count": 7,
   "id": "0e7f32d5",
   "metadata": {},
   "outputs": [
    {
     "data": {
      "image/png": "[encoded data removed]",
      "text/plain": [
       "<Figure size 1080x144 with 1 Axes>"
      ]
     },
     "metadata": {
      "needs_background": "light"
     },
     "output_type": "display_data"
    }
   ],
   "source": [
    "# Show randomly image with index --> 19\n",
    "plot_image(X_train, y_train, 19)"
   ]
  },
  {
   "cell_type": "code",
   "execution_count": 8,
   "id": "afcd6134",
   "metadata": {},
   "outputs": [
    {
     "data": {
      "image/png": "[encoded data removed]",
      "text/plain": [
       "<Figure size 1080x144 with 1 Axes>"
      ]
     },
     "metadata": {
      "needs_background": "light"
     },
     "output_type": "display_data"
    }
   ],
   "source": [
    "# Another randomly image with index --> 8\n",
    "plot_image(X_train, y_train, 8)"
   ]
  },
  {
   "cell_type": "markdown",
   "id": "454fda01",
   "metadata": {},
   "source": [
    "#### <font color=red>Note: you notice that the images have a low resolution because their dimension is 32*32 (very small)</font>"
   ]
  },
  {
   "cell_type": "markdown",
   "id": "c638897e",
   "metadata": {},
   "source": [
    "### 5. Build a convolutional Neural Network (CNN)"
   ]
  },
  {
   "cell_type": "markdown",
   "id": "7df67850",
   "metadata": {},
   "source": [
    "I need to normalize the data, as we know image has 3 channels (R, G, B) R = 0 to 255, Green = 0 to 255, Blue = 0 to 255.<br>\n",
    "So, i want to set it in value between 0 and 1, and i do that by divide each image value by 255"
   ]
  },
  {
   "cell_type": "code",
   "execution_count": 9,
   "id": "d8b4a226",
   "metadata": {},
   "outputs": [
    {
     "data": {
      "text/plain": [
       "array([[[ 23,  19,  23],\n",
       "        [ 19,  21,  28],\n",
       "        [ 21,  16,  19],\n",
       "        ...,\n",
       "        [200, 155, 125],\n",
       "        [199, 152, 122],\n",
       "        [197, 151, 120]],\n",
       "\n",
       "       [[ 23,  20,  24],\n",
       "        [ 19,  20,  27],\n",
       "        [ 21,  17,  20],\n",
       "        ...,\n",
       "        [205, 168, 133],\n",
       "        [204, 164, 129],\n",
       "        [202, 163, 128]],\n",
       "\n",
       "       [[ 23,  20,  24],\n",
       "        [ 20,  20,  26],\n",
       "        [ 23,  20,  23],\n",
       "        ...,\n",
       "        [211, 173, 139],\n",
       "        [208, 169, 136],\n",
       "        [206, 166, 132]],\n",
       "\n",
       "       ...,\n",
       "\n",
       "       [[194, 196, 163],\n",
       "        [177, 179, 144],\n",
       "        [176, 179, 141],\n",
       "        ...,\n",
       "        [149, 131, 117],\n",
       "        [148, 130, 116],\n",
       "        [141, 123, 110]],\n",
       "\n",
       "       [[172, 177, 142],\n",
       "        [157, 161, 126],\n",
       "        [165, 170, 131],\n",
       "        ...,\n",
       "        [140, 122, 108],\n",
       "        [149, 130, 116],\n",
       "        [152, 134, 119]],\n",
       "\n",
       "       [[151, 157, 123],\n",
       "        [134, 140, 104],\n",
       "        [144, 151, 112],\n",
       "        ...,\n",
       "        [149, 132, 118],\n",
       "        [155, 137, 123],\n",
       "        [150, 132, 118]]], dtype=uint8)"
      ]
     },
     "execution_count": 9,
     "metadata": {},
     "output_type": "execute_result"
    }
   ],
   "source": [
    "# Before normalizing\n",
    "X_train[19]\n",
    "X_test[8]"
   ]
  },
  {
   "cell_type": "code",
   "execution_count": 10,
   "id": "562ff908",
   "metadata": {},
   "outputs": [],
   "source": [
    "# Normalizing the data\n",
    "X_train = X_train / 255.0\n",
    "X_test = X_test / 255.0"
   ]
  },
  {
   "cell_type": "code",
   "execution_count": 11,
   "id": "cbe86a64",
   "metadata": {},
   "outputs": [
    {
     "data": {
      "text/plain": [
       "array([[[0.09019608, 0.0745098 , 0.09019608],\n",
       "        [0.0745098 , 0.08235294, 0.10980392],\n",
       "        [0.08235294, 0.0627451 , 0.0745098 ],\n",
       "        ...,\n",
       "        [0.78431373, 0.60784314, 0.49019608],\n",
       "        [0.78039216, 0.59607843, 0.47843137],\n",
       "        [0.77254902, 0.59215686, 0.47058824]],\n",
       "\n",
       "       [[0.09019608, 0.07843137, 0.09411765],\n",
       "        [0.0745098 , 0.07843137, 0.10588235],\n",
       "        [0.08235294, 0.06666667, 0.07843137],\n",
       "        ...,\n",
       "        [0.80392157, 0.65882353, 0.52156863],\n",
       "        [0.8       , 0.64313725, 0.50588235],\n",
       "        [0.79215686, 0.63921569, 0.50196078]],\n",
       "\n",
       "       [[0.09019608, 0.07843137, 0.09411765],\n",
       "        [0.07843137, 0.07843137, 0.10196078],\n",
       "        [0.09019608, 0.07843137, 0.09019608],\n",
       "        ...,\n",
       "        [0.82745098, 0.67843137, 0.54509804],\n",
       "        [0.81568627, 0.6627451 , 0.53333333],\n",
       "        [0.80784314, 0.65098039, 0.51764706]],\n",
       "\n",
       "       ...,\n",
       "\n",
       "       [[0.76078431, 0.76862745, 0.63921569],\n",
       "        [0.69411765, 0.70196078, 0.56470588],\n",
       "        [0.69019608, 0.70196078, 0.55294118],\n",
       "        ...,\n",
       "        [0.58431373, 0.51372549, 0.45882353],\n",
       "        [0.58039216, 0.50980392, 0.45490196],\n",
       "        [0.55294118, 0.48235294, 0.43137255]],\n",
       "\n",
       "       [[0.6745098 , 0.69411765, 0.55686275],\n",
       "        [0.61568627, 0.63137255, 0.49411765],\n",
       "        [0.64705882, 0.66666667, 0.51372549],\n",
       "        ...,\n",
       "        [0.54901961, 0.47843137, 0.42352941],\n",
       "        [0.58431373, 0.50980392, 0.45490196],\n",
       "        [0.59607843, 0.5254902 , 0.46666667]],\n",
       "\n",
       "       [[0.59215686, 0.61568627, 0.48235294],\n",
       "        [0.5254902 , 0.54901961, 0.40784314],\n",
       "        [0.56470588, 0.59215686, 0.43921569],\n",
       "        ...,\n",
       "        [0.58431373, 0.51764706, 0.4627451 ],\n",
       "        [0.60784314, 0.5372549 , 0.48235294],\n",
       "        [0.58823529, 0.51764706, 0.4627451 ]]])"
      ]
     },
     "execution_count": 11,
     "metadata": {},
     "output_type": "execute_result"
    }
   ],
   "source": [
    "# Normalizing the training data\n",
    "X_train[19]\n",
    "X_test[8]"
   ]
  },
  {
   "cell_type": "code",
   "execution_count": 12,
   "id": "ba639656",
   "metadata": {},
   "outputs": [],
   "source": [
    "# Create CNN Model\n",
    "CNN = models.Sequential([\n",
    "    \n",
    "    # First layer\n",
    "    layers.Conv2D(filters=32, kernel_size=(3, 3), activation='relu', input_shape=(32, 32, 3)),\n",
    "    layers.MaxPooling2D((2, 2)),\n",
    "    \n",
    "    # Second layer\n",
    "    layers.Conv2D(filters=64, kernel_size=(3, 3), activation='relu'),\n",
    "    layers.MaxPooling2D((2, 2)),\n",
    "    \n",
    "    # Flatten\n",
    "    layers.Flatten(),\n",
    "    layers.Dense(64, activation='relu'),\n",
    "    layers.Dense(10, activation='softmax')\n",
    "])"
   ]
  },
  {
   "cell_type": "code",
   "execution_count": 13,
   "id": "9923867b",
   "metadata": {},
   "outputs": [],
   "source": [
    "# Compile CNN\n",
    "CNN.compile(optimizer='adam', loss='sparse_categorical_crossentropy', metrics=['accuracy'])"
   ]
  },
  {
   "cell_type": "markdown",
   "id": "a8aa5cd8",
   "metadata": {},
   "source": [
    "### 6. Let's train CNN"
   ]
  },
  {
   "cell_type": "code",
   "execution_count": 14,
   "id": "db5acd8a",
   "metadata": {},
   "outputs": [
    {
     "name": "stdout",
     "output_type": "stream",
     "text": [
      "Epoch 1/10\n",
      "1563/1563 [==============================] - 33s 19ms/step - loss: 1.4504 - accuracy: 0.4795\n",
      "Epoch 2/10\n",
      "1563/1563 [==============================] - 31s 20ms/step - loss: 1.0813 - accuracy: 0.6214\n",
      "Epoch 3/10\n",
      "1563/1563 [==============================] - 31s 20ms/step - loss: 0.9488 - accuracy: 0.6692\n",
      "Epoch 4/10\n",
      "1563/1563 [==============================] - 31s 20ms/step - loss: 0.8609 - accuracy: 0.7005\n",
      "Epoch 5/10\n",
      "1563/1563 [==============================] - 31s 20ms/step - loss: 0.7962 - accuracy: 0.7243\n",
      "Epoch 6/10\n",
      "1563/1563 [==============================] - 31s 20ms/step - loss: 0.7357 - accuracy: 0.7438\n",
      "Epoch 7/10\n",
      "1563/1563 [==============================] - 31s 20ms/step - loss: 0.6869 - accuracy: 0.7622\n",
      "Epoch 8/10\n",
      "1563/1563 [==============================] - 32s 20ms/step - loss: 0.6382 - accuracy: 0.7776\n",
      "Epoch 9/10\n",
      "1563/1563 [==============================] - 32s 21ms/step - loss: 0.5975 - accuracy: 0.7913\n",
      "Epoch 10/10\n",
      "1563/1563 [==============================] - 32s 20ms/step - loss: 0.5612 - accuracy: 0.8046\n"
     ]
    },
    {
     "data": {
      "text/plain": [
       "<keras.callbacks.History at 0x24a606c98b0>"
      ]
     },
     "execution_count": 14,
     "metadata": {},
     "output_type": "execute_result"
    }
   ],
   "source": [
    "CNN.fit(X_train, y_train, epochs=10)"
   ]
  },
  {
   "cell_type": "code",
   "execution_count": 15,
   "id": "84be2af7",
   "metadata": {},
   "outputs": [
    {
     "name": "stdout",
     "output_type": "stream",
     "text": [
      "313/313 [==============================] - 2s 5ms/step - loss: 0.9189 - accuracy: 0.7012\n"
     ]
    }
   ],
   "source": [
    "evaluation = CNN.evaluate(X_test, y_test)"
   ]
  },
  {
   "cell_type": "code",
   "execution_count": 16,
   "id": "0bb918b4",
   "metadata": {},
   "outputs": [
    {
     "name": "stdout",
     "output_type": "stream",
     "text": [
      "Accuracy = 70 %\n"
     ]
    }
   ],
   "source": [
    "print(f\"Accuracy = {round(evaluation[1] * 100)} %\")"
   ]
  },
  {
   "cell_type": "markdown",
   "id": "af131776",
   "metadata": {},
   "source": [
    "<font color=black>__Output notes:__<br>The accuracy of CNN is about 70 %, and that is good as starter. Maybe later i will try to improve it. </font>"
   ]
  },
  {
   "cell_type": "markdown",
   "id": "5639463e",
   "metadata": {},
   "source": [
    "### 7. Time to predict"
   ]
  },
  {
   "cell_type": "markdown",
   "id": "b4f24537",
   "metadata": {},
   "source": [
    "I am going to predict elements with indexes (2, 3, 5)"
   ]
  },
  {
   "cell_type": "code",
   "execution_count": 17,
   "id": "b9814e96",
   "metadata": {},
   "outputs": [
    {
     "data": {
      "image/png": "[encoded data removed]",
      "text/plain": [
       "<Figure size 1080x144 with 1 Axes>"
      ]
     },
     "metadata": {
      "needs_background": "light"
     },
     "output_type": "display_data"
    },
    {
     "data": {
      "image/png": "[encoded data removed]",
      "text/plain": [
       "<Figure size 1080x144 with 1 Axes>"
      ]
     },
     "metadata": {
      "needs_background": "light"
     },
     "output_type": "display_data"
    },
    {
     "data": {
      "image/png": "[encoded data removed]",
      "text/plain": [
       "<Figure size 1080x144 with 1 Axes>"
      ]
     },
     "metadata": {
      "needs_background": "light"
     },
     "output_type": "display_data"
    }
   ],
   "source": [
    "# Let's see the elements before ask prediction from the model\n",
    "plot_image(X_test, y_test, 2)\n",
    "plot_image(X_test, y_test, 3)\n",
    "plot_image(X_test, y_test, 7)"
   ]
  },
  {
   "cell_type": "code",
   "execution_count": 18,
   "id": "b31c7d9b",
   "metadata": {},
   "outputs": [],
   "source": [
    "# Start prediction\n",
    "predict = CNN.predict(X_test)"
   ]
  },
  {
   "cell_type": "code",
   "execution_count": 19,
   "id": "3a5ab098",
   "metadata": {},
   "outputs": [
    {
     "name": "stdout",
     "output_type": "stream",
     "text": [
      "8\n",
      "0\n",
      "2\n"
     ]
    }
   ],
   "source": [
    "# Now Let's ask model\n",
    "predict_1 = np.argmax(predict[2])\n",
    "predict_2 = np.argmax(predict[3])\n",
    "predict_3 = np.argmax(predict[7])\n",
    "\n",
    "print(predict_1)\n",
    "print(predict_2)\n",
    "print(predict_3)"
   ]
  },
  {
   "cell_type": "code",
   "execution_count": 20,
   "id": "ecd6b559",
   "metadata": {},
   "outputs": [
    {
     "name": "stdout",
     "output_type": "stream",
     "text": [
      "ship\n",
      "airplane\n",
      "bird\n"
     ]
    }
   ],
   "source": [
    "# Results\n",
    "result_1 = classes[predict_1]\n",
    "result_2 = classes[predict_2]\n",
    "result_3 = classes[predict_3]\n",
    "\n",
    "print(result_1)\n",
    "print(result_2)\n",
    "print(result_3)"
   ]
  },
  {
   "cell_type": "markdown",
   "id": "f8176cb0",
   "metadata": {},
   "source": [
    "### <font color=blue>So, the previous experiment with CIFAR 10 and CNN gave me a general vision of how Deep learning works with images by using neural networks.</font>"
   ]
  },
  {
   "cell_type": "markdown",
   "id": "a2c7adee",
   "metadata": {},
   "source": [
    "### 8. Let's Create my own dataset, and build CNN for it "
   ]
  },
  {
   "cell_type": "markdown",
   "id": "40e474c5",
   "metadata": {},
   "source": [
    "#### I have collected a small dataset with 60*80 images size, i divide all images to three main folders for (validation/ training/ testing), with 6 classes for each."
   ]
  },
  {
   "cell_type": "markdown",
   "id": "111a8172",
   "metadata": {},
   "source": [
    "![title](img/dataset_folders.png)"
   ]
  },
  {
   "cell_type": "markdown",
   "id": "b4bb27dd",
   "metadata": {},
   "source": [
    "![Categories folders](img/category_folders.png)"
   ]
  },
  {
   "cell_type": "markdown",
   "id": "88fb30fb",
   "metadata": {},
   "source": [
    "![Some of prohibited images](img/prohibited_images.png)"
   ]
  },
  {
   "cell_type": "code",
   "execution_count": 62,
   "id": "0711f27c",
   "metadata": {},
   "outputs": [],
   "source": [
    "# you might need to install opencv-python for cv 2\n",
    "#! pip install opencv-python"
   ]
  },
  {
   "cell_type": "code",
   "execution_count": 63,
   "id": "3524fbcc",
   "metadata": {},
   "outputs": [],
   "source": [
    "# Import libraries\n",
    "import os\n",
    "import cv2\n",
    "import pickle\n",
    "from tensorflow.keras.preprocessing import image\n",
    "from tensorflow.keras.preprocessing.image import ImageDataGenerator"
   ]
  },
  {
   "cell_type": "markdown",
   "id": "eb595e7d",
   "metadata": {},
   "source": [
    "### Visualize/Display image"
   ]
  },
  {
   "cell_type": "code",
   "execution_count": 64,
   "id": "20dfca10",
   "metadata": {},
   "outputs": [],
   "source": [
    "# I select an image from training folder\n",
    "sample_image = image.load_img(\"dataset/training/bag/1525.jpg\")"
   ]
  },
  {
   "cell_type": "code",
   "execution_count": 65,
   "id": "998cbf60",
   "metadata": {},
   "outputs": [
    {
     "data": {
      "image/png": "[encoded data removed]",
      "text/plain": [
       "<Figure size 432x288 with 1 Axes>"
      ]
     },
     "metadata": {
      "needs_background": "light"
     },
     "output_type": "display_data"
    }
   ],
   "source": [
    "plt.imshow(sample_image);"
   ]
  },
  {
   "cell_type": "code",
   "execution_count": 66,
   "id": "454b7bcb",
   "metadata": {},
   "outputs": [
    {
     "data": {
      "text/plain": [
       "(80, 60, 3)"
      ]
     },
     "execution_count": 66,
     "metadata": {},
     "output_type": "execute_result"
    }
   ],
   "source": [
    "# Display image shape\n",
    "cv2.imread(\"dataset/training/bag/1525.jpg\").shape"
   ]
  },
  {
   "cell_type": "code",
   "execution_count": 67,
   "id": "e630ce25",
   "metadata": {},
   "outputs": [],
   "source": [
    "# Define variables for (batch size, image height, image width, epochs), because i need to use it repeatedly\n",
    "batch_size = 1\n",
    "img_height = 80\n",
    "img_width = 60\n",
    "\n",
    "epochs=10"
   ]
  },
  {
   "cell_type": "code",
   "execution_count": 68,
   "id": "f0dbc95f",
   "metadata": {},
   "outputs": [
    {
     "name": "stdout",
     "output_type": "stream",
     "text": [
      "Found 496 files belonging to 6 classes.\n",
      "Using 397 files for training.\n"
     ]
    }
   ],
   "source": [
    "# Define the training dataset using keras and will print all file and classess founded\n",
    "train_ds = tf.keras.utils.image_dataset_from_directory(\n",
    "  \"dataset/training/\",\n",
    "  validation_split=0.2,\n",
    "  subset=\"training\",\n",
    "  seed=123,\n",
    "  image_size=(img_height, img_width),\n",
    "  batch_size=batch_size)"
   ]
  },
  {
   "cell_type": "code",
   "execution_count": 69,
   "id": "ddca766e",
   "metadata": {},
   "outputs": [
    {
     "name": "stdout",
     "output_type": "stream",
     "text": [
      "Found 154 files belonging to 6 classes.\n",
      "Using 30 files for validation.\n"
     ]
    }
   ],
   "source": [
    "# Define the validating dataset using keras and will print all file and classess founded\n",
    "val_ds = tf.keras.utils.image_dataset_from_directory(\n",
    "  \"dataset/validating/\",\n",
    "  validation_split=0.2,\n",
    "  subset=\"validation\",\n",
    "  seed=123,\n",
    "  image_size=(img_height, img_width),\n",
    "  batch_size=batch_size)"
   ]
  },
  {
   "cell_type": "code",
   "execution_count": 70,
   "id": "8b04fe17",
   "metadata": {},
   "outputs": [
    {
     "name": "stdout",
     "output_type": "stream",
     "text": [
      "['bag', 'prohibited', 'slipper', 'sunglass', 'tail', 'watch']\n"
     ]
    }
   ],
   "source": [
    "# Show all classes depend on folders names\n",
    "class_names = train_ds.class_names\n",
    "print(class_names)"
   ]
  },
  {
   "cell_type": "code",
   "execution_count": 71,
   "id": "f4c8f5dc",
   "metadata": {},
   "outputs": [],
   "source": [
    "# Some operations to shuffle images data\n",
    "AUTOTUNE = tf.data.AUTOTUNE\n",
    "\n",
    "train_ds = train_ds.cache().shuffle(1000).prefetch(buffer_size=AUTOTUNE) # keeps the images in memory after they're loaded off disk during the first epoch.\n",
    "val_ds = val_ds.cache().prefetch(buffer_size=AUTOTUNE) # Overlaps data preprocessing and model execution while training."
   ]
  },
  {
   "cell_type": "markdown",
   "id": "0eb35954",
   "metadata": {},
   "source": [
    "### Normalization time\n",
    "Convert images pixels from 0 to 255 values from 0 to 1."
   ]
  },
  {
   "cell_type": "code",
   "execution_count": 72,
   "id": "592bd2c2",
   "metadata": {},
   "outputs": [],
   "source": [
    "normalization_layer = layers.Rescaling(1./255)"
   ]
  },
  {
   "cell_type": "code",
   "execution_count": 73,
   "id": "9c642875",
   "metadata": {},
   "outputs": [
    {
     "name": "stdout",
     "output_type": "stream",
     "text": [
      "0.03529412 1.0\n"
     ]
    }
   ],
   "source": [
    "normalized_ds = train_ds.map(lambda x, y: (normalization_layer(x), y))\n",
    "image_batch, labels_batch = next(iter(normalized_ds))\n",
    "first_image = image_batch[0]\n",
    "\n",
    "# Print pixel values after normalized\n",
    "print(np.min(first_image), np.max(first_image))"
   ]
  },
  {
   "cell_type": "markdown",
   "id": "cf48323f",
   "metadata": {},
   "source": [
    "### Create the model"
   ]
  },
  {
   "cell_type": "code",
   "execution_count": 74,
   "id": "8a94e1b3",
   "metadata": {},
   "outputs": [],
   "source": [
    "# Create variable for number of classes\n",
    "num_classes = 6\n",
    "\n",
    "# Create the model\n",
    "model = models.Sequential([\n",
    "  layers.Rescaling(1./255, input_shape=(img_height, img_width, 3)),\n",
    "  layers.Conv2D(16, 3, padding='same', activation='relu'),\n",
    "  layers.MaxPooling2D(),\n",
    "  layers.Conv2D(32, 3, padding='same', activation='relu'),\n",
    "  layers.MaxPooling2D(),\n",
    "  layers.Conv2D(64, 3, padding='same', activation='relu'),\n",
    "  layers.MaxPooling2D(),\n",
    "  layers.Flatten(),\n",
    "  layers.Dense(128, activation='relu'),\n",
    "  layers.Dense(num_classes)\n",
    "])"
   ]
  },
  {
   "cell_type": "code",
   "execution_count": 75,
   "id": "ba3437b2",
   "metadata": {},
   "outputs": [],
   "source": [
    "# Compile the model\n",
    "model.compile(optimizer='adam', loss=tf.keras.losses.SparseCategoricalCrossentropy(from_logits=True), metrics=['accuracy'])"
   ]
  },
  {
   "cell_type": "markdown",
   "id": "6b330e4d",
   "metadata": {},
   "source": [
    "### Train the model"
   ]
  },
  {
   "cell_type": "code",
   "execution_count": 76,
   "id": "412f646d",
   "metadata": {},
   "outputs": [
    {
     "name": "stdout",
     "output_type": "stream",
     "text": [
      "Epoch 1/10\n",
      "397/397 [==============================] - 3s 7ms/step - loss: 0.7854 - accuracy: 0.7204 - val_loss: 0.1478 - val_accuracy: 0.9333\n",
      "Epoch 2/10\n",
      "397/397 [==============================] - 3s 6ms/step - loss: 0.1651 - accuracy: 0.9496 - val_loss: 0.0146 - val_accuracy: 1.0000\n",
      "Epoch 3/10\n",
      "397/397 [==============================] - 2s 6ms/step - loss: 0.0872 - accuracy: 0.9723 - val_loss: 0.0330 - val_accuracy: 0.9667\n",
      "Epoch 4/10\n",
      "397/397 [==============================] - 2s 6ms/step - loss: 0.0039 - accuracy: 1.0000 - val_loss: 0.0049 - val_accuracy: 1.0000\n",
      "Epoch 5/10\n",
      "397/397 [==============================] - 2s 6ms/step - loss: 0.0161 - accuracy: 0.9950 - val_loss: 0.0302 - val_accuracy: 0.9667\n",
      "Epoch 6/10\n",
      "397/397 [==============================] - 3s 6ms/step - loss: 0.3174 - accuracy: 0.9194 - val_loss: 8.7693e-04 - val_accuracy: 1.0000\n",
      "Epoch 7/10\n",
      "397/397 [==============================] - 3s 6ms/step - loss: 0.0346 - accuracy: 0.9849 - val_loss: 0.0128 - val_accuracy: 1.0000\n",
      "Epoch 8/10\n",
      "397/397 [==============================] - 3s 6ms/step - loss: 0.0139 - accuracy: 0.9950 - val_loss: 0.1642 - val_accuracy: 0.9333\n",
      "Epoch 9/10\n",
      "397/397 [==============================] - 3s 6ms/step - loss: 0.0550 - accuracy: 0.9824 - val_loss: 0.0178 - val_accuracy: 1.0000\n",
      "Epoch 10/10\n",
      "397/397 [==============================] - 2s 6ms/step - loss: 0.0053 - accuracy: 0.9975 - val_loss: 0.0033 - val_accuracy: 1.0000\n"
     ]
    }
   ],
   "source": [
    "# Handle train()\n",
    "history = model.fit(train_ds, validation_data=val_ds, epochs=epochs) # epochs ==> 10"
   ]
  },
  {
   "cell_type": "markdown",
   "id": "8f816ab0",
   "metadata": {},
   "source": [
    "### Visualize training results"
   ]
  },
  {
   "cell_type": "code",
   "execution_count": 36,
   "id": "0f4634ff",
   "metadata": {},
   "outputs": [
    {
     "data": {
      "image/png": "[encoded data removed]",
      "text/plain": [
       "<Figure size 576x576 with 2 Axes>"
      ]
     },
     "metadata": {
      "needs_background": "light"
     },
     "output_type": "display_data"
    }
   ],
   "source": [
    "acc = history.history['accuracy']\n",
    "val_acc = history.history['val_accuracy']\n",
    "\n",
    "loss = history.history['loss']\n",
    "val_loss = history.history['val_loss']\n",
    "\n",
    "epochs_range = range(epochs)\n",
    "\n",
    "plt.figure(figsize=(8, 8))\n",
    "plt.subplot(1, 2, 1)\n",
    "plt.plot(epochs_range, acc, label='Training Accuracy')\n",
    "plt.plot(epochs_range, val_acc, label='Validation Accuracy')\n",
    "plt.legend(loc='lower right')\n",
    "plt.title('Training and Validation Accuracy')\n",
    "\n",
    "plt.subplot(1, 2, 2)\n",
    "plt.plot(epochs_range, loss, label='Training Loss')\n",
    "plt.plot(epochs_range, val_loss, label='Validation Loss')\n",
    "plt.legend(loc='upper right')\n",
    "plt.title('Training and Validation Loss')\n",
    "plt.show()"
   ]
  },
  {
   "cell_type": "markdown",
   "id": "c517898a",
   "metadata": {},
   "source": [
    "### Technique to reduce overfitting"
   ]
  },
  {
   "cell_type": "code",
   "execution_count": 77,
   "id": "2cbd4c9a",
   "metadata": {},
   "outputs": [],
   "source": [
    "# Expose the model to more aspects by using (RandomFlip, RandomRotation, RandomZoom)\n",
    "data_augmentation = models.Sequential([layers.RandomFlip(\"horizontal\", input_shape=(img_height, img_width, 3)), \n",
    "                                       layers.RandomRotation(0.1),\n",
    "                                       layers.RandomZoom(0.1),])"
   ]
  },
  {
   "cell_type": "code",
   "execution_count": 78,
   "id": "8f36d575",
   "metadata": {},
   "outputs": [],
   "source": [
    "# Dropout\n",
    "model = models.Sequential([\n",
    "  data_augmentation,\n",
    "  layers.Rescaling(1./255),\n",
    "  layers.Conv2D(16, 3, padding='same', activation='relu'),\n",
    "  layers.MaxPooling2D(),\n",
    "  layers.Conv2D(32, 3, padding='same', activation='relu'),\n",
    "  layers.MaxPooling2D(),\n",
    "  layers.Conv2D(64, 3, padding='same', activation='relu'),\n",
    "  layers.MaxPooling2D(),\n",
    "  layers.Dropout(0.2),\n",
    "  layers.Flatten(),\n",
    "  layers.Dense(128, activation='relu'),\n",
    "  layers.Dense(num_classes)\n",
    "])"
   ]
  },
  {
   "cell_type": "markdown",
   "id": "ca64c6c9",
   "metadata": {},
   "source": [
    "### Compile and train the model (Again!)"
   ]
  },
  {
   "cell_type": "code",
   "execution_count": 79,
   "id": "6eda0dae",
   "metadata": {},
   "outputs": [],
   "source": [
    "model.compile(optimizer='adam', loss=tf.keras.losses.SparseCategoricalCrossentropy(from_logits=True), metrics=['accuracy'])"
   ]
  },
  {
   "cell_type": "code",
   "execution_count": 80,
   "id": "6184785d",
   "metadata": {},
   "outputs": [
    {
     "name": "stdout",
     "output_type": "stream",
     "text": [
      "Epoch 1/15\n",
      "397/397 [==============================] - 4s 8ms/step - loss: 1.5274 - accuracy: 0.3778 - val_loss: 0.4550 - val_accuracy: 0.9000\n",
      "Epoch 2/15\n",
      "397/397 [==============================] - 3s 7ms/step - loss: 0.7379 - accuracy: 0.7355 - val_loss: 0.2199 - val_accuracy: 0.9333\n",
      "Epoch 3/15\n",
      "397/397 [==============================] - 3s 7ms/step - loss: 0.3640 - accuracy: 0.8640 - val_loss: 0.1471 - val_accuracy: 0.9333\n",
      "Epoch 4/15\n",
      "397/397 [==============================] - 3s 8ms/step - loss: 0.3448 - accuracy: 0.8892 - val_loss: 0.0925 - val_accuracy: 0.9333\n",
      "Epoch 5/15\n",
      "397/397 [==============================] - 3s 7ms/step - loss: 0.3928 - accuracy: 0.8741 - val_loss: 0.0991 - val_accuracy: 0.9667\n",
      "Epoch 6/15\n",
      "397/397 [==============================] - 3s 7ms/step - loss: 0.2353 - accuracy: 0.9194 - val_loss: 0.0547 - val_accuracy: 1.0000\n",
      "Epoch 7/15\n",
      "397/397 [==============================] - 3s 7ms/step - loss: 0.1602 - accuracy: 0.9622 - val_loss: 0.0304 - val_accuracy: 1.0000\n",
      "Epoch 8/15\n",
      "397/397 [==============================] - 3s 8ms/step - loss: 0.1582 - accuracy: 0.9521 - val_loss: 0.0346 - val_accuracy: 1.0000\n",
      "Epoch 9/15\n",
      "397/397 [==============================] - 3s 7ms/step - loss: 0.1780 - accuracy: 0.9421 - val_loss: 0.1225 - val_accuracy: 0.9333\n",
      "Epoch 10/15\n",
      "397/397 [==============================] - 3s 7ms/step - loss: 0.1051 - accuracy: 0.9622 - val_loss: 0.0552 - val_accuracy: 0.9667\n",
      "Epoch 11/15\n",
      "397/397 [==============================] - 3s 7ms/step - loss: 0.1584 - accuracy: 0.9547 - val_loss: 0.0575 - val_accuracy: 1.0000\n",
      "Epoch 12/15\n",
      "397/397 [==============================] - 3s 7ms/step - loss: 0.1299 - accuracy: 0.9547 - val_loss: 0.0586 - val_accuracy: 0.9667\n",
      "Epoch 13/15\n",
      "397/397 [==============================] - 3s 7ms/step - loss: 0.0918 - accuracy: 0.9698 - val_loss: 0.0302 - val_accuracy: 1.0000\n",
      "Epoch 14/15\n",
      "397/397 [==============================] - 3s 8ms/step - loss: 0.1424 - accuracy: 0.9597 - val_loss: 0.0748 - val_accuracy: 0.9667\n",
      "Epoch 15/15\n",
      "397/397 [==============================] - 3s 7ms/step - loss: 0.1197 - accuracy: 0.9673 - val_loss: 0.0224 - val_accuracy: 1.0000\n"
     ]
    }
   ],
   "source": [
    "# Reduce epochs value to 15\n",
    "epochs = 15\n",
    "\n",
    "history = model.fit(train_ds, validation_data=val_ds, epochs=epochs)"
   ]
  },
  {
   "cell_type": "code",
   "execution_count": 81,
   "id": "b50a8b7e",
   "metadata": {},
   "outputs": [],
   "source": [
    "from keras.models import load_model\n",
    "\n",
    "model.save('image-model.h5') \n",
    "#pickle.dump(history, open('image-model.pkl','wb'))\n",
    "#import joblib\n",
    "#joblib.dump(history, 'hog_sgd_model.pkl');\n",
    "#import dill\n",
    "#import weakref\n",
    "#dill.loads(dill.dumps(weakref.WeakKeyDictionary()))"
   ]
  },
  {
   "cell_type": "code",
   "execution_count": 42,
   "id": "1f42a51f",
   "metadata": {},
   "outputs": [
    {
     "data": {
      "image/png": "[encoded data removed]",
      "text/plain": [
       "<Figure size 576x576 with 2 Axes>"
      ]
     },
     "metadata": {
      "needs_background": "light"
     },
     "output_type": "display_data"
    }
   ],
   "source": [
    "acc = history.history['accuracy']\n",
    "val_acc = history.history['val_accuracy']\n",
    "\n",
    "loss = history.history['loss']\n",
    "val_loss = history.history['val_loss']\n",
    "\n",
    "epochs_range = range(epochs)\n",
    "\n",
    "plt.figure(figsize=(8, 8))\n",
    "plt.subplot(1, 2, 1)\n",
    "plt.plot(epochs_range, acc, label='Training Accuracy')\n",
    "plt.plot(epochs_range, val_acc, label='Validation Accuracy')\n",
    "plt.legend(loc='lower right')\n",
    "plt.title('Training and Validation Accuracy')\n",
    "\n",
    "plt.subplot(1, 2, 2)\n",
    "plt.plot(epochs_range, loss, label='Training Loss')\n",
    "plt.plot(epochs_range, val_loss, label='Validation Loss')\n",
    "plt.legend(loc='upper right')\n",
    "plt.title('Training and Validation Loss')\n",
    "plt.show()"
   ]
  },
  {
   "cell_type": "markdown",
   "id": "7ebd20b0",
   "metadata": {},
   "source": [
    "### I think it's better :)"
   ]
  },
  {
   "cell_type": "markdown",
   "id": "9d8334f3",
   "metadata": {},
   "source": [
    "### Predict\n",
    "Let's try prediction on one of images in test folder"
   ]
  },
  {
   "cell_type": "code",
   "execution_count": 21,
   "id": "f0c782a3",
   "metadata": {},
   "outputs": [
    {
     "name": "stdout",
     "output_type": "stream",
     "text": [
      "This prediction category is ==> bag\n",
      "The score is ==> 99.99358654022217 %\n"
     ]
    },
    {
     "data": {
      "image/png": "[encoded data removed]",
      "text/plain": [
       "<Figure size 432x288 with 1 Axes>"
      ]
     },
     "metadata": {
      "needs_background": "light"
     },
     "output_type": "display_data"
    }
   ],
   "source": [
    "# Create image URL variable \n",
    "image_url =  \"dataset/testing/bag/1.jpg\"\n",
    "\n",
    "img = tf.keras.utils.load_img(image_url, target_size=(img_height, img_width)) # Load image and resize it with (60*80)\n",
    "img_array = tf.keras.utils.img_to_array(img) # Convert to array\n",
    "img_array = tf.expand_dims(img_array, 0) # Create a batch\n",
    "\n",
    "# Start predict\n",
    "predictions = model.predict(img_array)\n",
    "\n",
    "# Get the score of prediction\n",
    "score = tf.nn.softmax(predictions[0])\n",
    "\n",
    "# Display the image\n",
    "plt.imshow(image.load_img(image_url))\n",
    "\n",
    "# Show the prediction result with score\n",
    "print(f\"This prediction category is ==> {class_names[np.argmax(score)]}\")\n",
    "print(f\"The score is ==> {100 * np.max(score)} %\")"
   ]
  },
  {
   "cell_type": "markdown",
   "id": "27d73bff",
   "metadata": {},
   "source": [
    "## Nice job until now!"
   ]
  },
  {
   "cell_type": "markdown",
   "id": "4d7b46c1",
   "metadata": {},
   "source": [
    "### Export the model by using Keras for deployment step"
   ]
  },
  {
   "cell_type": "code",
   "execution_count": null,
   "id": "79bcfeaa",
   "metadata": {},
   "outputs": [],
   "source": [
    "model.save('image-model.h5')"
   ]
  }
 ],
 "metadata": {
  "kernelspec": {
   "display_name": "Python 3",
   "language": "python",
   "name": "python3"
  },
  "language_info": {
   "codemirror_mode": {
    "name": "ipython",
    "version": 3
   },
   "file_extension": ".py",
   "mimetype": "text/x-python",
   "name": "python",
   "nbconvert_exporter": "python",
   "pygments_lexer": "ipython3",
   "version": "3.8.8"
  }
 },
 "nbformat": 4,
 "nbformat_minor": 5
}
